{
 "cells": [
  {
   "cell_type": "code",
   "execution_count": 2,
   "id": "66ffde0f-7f6e-4f63-b53c-f9ae03dd464a",
   "metadata": {},
   "outputs": [],
   "source": [
    "def fizz_buzz(n):\n",
    "    out = []\n",
    "    for number in range(n+1):\n",
    "        temp_str = \"\"\n",
    "        if number % 3 == 0:\n",
    "            temp_str += \"Fizz\"\n",
    "        if number % 5 == 0:\n",
    "            temp_str += \"Buzz\"\n",
    "        elif number%3 != 0 or number%5 != 0:\n",
    "            temp_str = str(number)\n",
    "        out.append(temp_str)\n",
    "    return out"
   ]
  },
  {
   "cell_type": "code",
   "execution_count": 9,
   "id": "b5b3f105-12e5-4c4b-80e1-b344227b8ffe",
   "metadata": {},
   "outputs": [
    {
     "data": {
      "text/plain": [
       "['1',\n",
       " '2',\n",
       " 'Fizz',\n",
       " '4',\n",
       " 'Buzz',\n",
       " 'Fizz',\n",
       " '7',\n",
       " '8',\n",
       " 'Fizz',\n",
       " 'Buzz',\n",
       " '11',\n",
       " 'Fizz',\n",
       " '13',\n",
       " '14',\n",
       " 'FizzBuzz']"
      ]
     },
     "execution_count": 9,
     "metadata": {},
     "output_type": "execute_result"
    }
   ],
   "source": [
    "fizz_buzz(15)"
   ]
  },
  {
   "cell_type": "code",
   "execution_count": null,
   "id": "171e0831-edc5-4a5e-b78f-bcc985026ed2",
   "metadata": {},
   "outputs": [],
   "source": []
  }
 ],
 "metadata": {
  "kernelspec": {
   "display_name": "Python 3 (ipykernel)",
   "language": "python",
   "name": "python3"
  },
  "language_info": {
   "codemirror_mode": {
    "name": "ipython",
    "version": 3
   },
   "file_extension": ".py",
   "mimetype": "text/x-python",
   "name": "python",
   "nbconvert_exporter": "python",
   "pygments_lexer": "ipython3",
   "version": "3.12.3"
  }
 },
 "nbformat": 4,
 "nbformat_minor": 5
}
