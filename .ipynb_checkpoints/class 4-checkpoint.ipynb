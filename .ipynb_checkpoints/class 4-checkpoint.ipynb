{
 "cells": [
  {
   "cell_type": "markdown",
   "id": "bbb8dbc7-4b91-4c37-99c1-4ae8a797c09b",
   "metadata": {},
   "source": [
    " Solutions to previous problems"
   ]
  },
  {
   "cell_type": "code",
   "execution_count": null,
   "id": "5500d20e-4534-4e75-96f6-0dea4025a1de",
   "metadata": {},
   "outputs": [],
   "source": [
    "class QueueII:\n",
    "class _Node:\n",
    "    def _init_(self,datum):\n",
    "        self.data = datum\n",
    "        self.next = None\n",
    "\n",
    "    def __init__(self):\n",
    "         self.back = None\n",
    "         self.front = None\n",
    "         self.count = 0\n",
    "\n",
    "    def enqueue (self,element):\n",
    "        new_node = self.__Node(element)\n",
    "        self.count += 1\n",
    "        if not self.back:\n",
    "            self.back = new_node\n",
    "            self.front = new_node\n",
    "        else:\n",
    "            self.back.next = new_node\n",
    "            self.back = new_node\n",
    "\n",
    "      def dequeue(self):\n",
    "          if self.front:\n",
    "              backup = self.front.data\n",
    "              self. front = self.front.next\n",
    "              count -= 1\n",
    "              if not self.front:\n",
    "                  self.back = None\n",
    "              return backup\n",
    "            raise IndexError(\"queue is empty\")\n",
    "          \n",
    "       # Nice to have methods\n",
    "       def peek(self):\n",
    "           if self.front:\n",
    "              self.front.data\n",
    "           else:\n",
    "               raise IndexError(\"qeueue is empty\")\n",
    "\n",
    "        def _is_empty(self):\n",
    "            return self.front == None\n",
    "\n",
    "         def __str__(self):\n",
    "             out = \"[\"\n",
    "             if self.front:\n",
    "                 current= self.front\n",
    "                 out += \"%s\" % current.data\n",
    "                 current = current.next\n",
    "                 while current:\n",
    "                     out += \",%s\" % current. data\n",
    "                      current = current.next\n",
    "                 out += \"]\"\n",
    "                 return out            "
   ]
  },
  {
   "cell_type": "code",
   "execution_count": 38,
   "id": "3d186320-c1fc-4bd1-a1a8-0928882e12c3",
   "metadata": {},
   "outputs": [
    {
     "ename": "NameError",
     "evalue": "name 'QueueII' is not defined",
     "output_type": "error",
     "traceback": [
      "\u001b[31m---------------------------------------------------------------------------\u001b[39m",
      "\u001b[31mNameError\u001b[39m                                 Traceback (most recent call last)",
      "\u001b[36mCell\u001b[39m\u001b[36m \u001b[39m\u001b[32mIn[38]\u001b[39m\u001b[32m, line 1\u001b[39m\n\u001b[32m----> \u001b[39m\u001b[32m1\u001b[39m queue = \u001b[43mQueueII\u001b[49m()\n\u001b[32m      3\u001b[39m \u001b[38;5;28;01mfor\u001b[39;00m number \u001b[38;5;129;01min\u001b[39;00m \u001b[38;5;28mrange\u001b[39m(\u001b[32m11\u001b[39m):\n\u001b[32m      4\u001b[39m     queue.enqueue(number)\n",
      "\u001b[31mNameError\u001b[39m: name 'QueueII' is not defined"
     ]
    }
   ],
   "source": [
    "queue = QueueII()\n",
    "\n",
    "for number in range(11):\n",
    "    queue.enqueue(number)\n",
    "\n",
    "print (queue)"
   ]
  },
  {
   "cell_type": "markdown",
   "id": "8f2e249e-8ec5-4a0a-be8e-f2ff03d5b0d8",
   "metadata": {},
   "source": [
    "Recursive Functions\n",
    "\n",
    "A recursive function is simly a function  that calls itself at least once. A basic premise of a reclusive function is that the exit condition is typically referred to as the base case, something ultimately known to be true in the context of the problem we are solving."
   ]
  },
  {
   "cell_type": "code",
   "execution_count": null,
   "id": "b531bd98-f71b-48fd-a83f-20a6bad65c52",
   "metadata": {},
   "outputs": [],
   "source": [
    "#Factorial function\n",
    "\n",
    "# The factorial of a number N is represented as N! and is the product of all of its preceding integers from N to 1.\n",
    "# As a convention,the factorial of 0 ( in otherwords 0!) is said to be 1.\n",
    "\n",
    "# 5! = 5x4x3x2x1 = 120\n",
    "# 5! = 5x4!\n",
    "# 4! = 3x2!\n",
    "# ..."
   ]
  },
  {
   "cell_type": "code",
   "execution_count": 39,
   "id": "5231dc2a-bb79-4096-ae1b-f897b6a3ffd6",
   "metadata": {},
   "outputs": [],
   "source": [
    "def factorial(n):\n",
    "    if n == 0:\n",
    "        return 1\n",
    "    return n * factorial(n - 1)  "
   ]
  },
  {
   "cell_type": "code",
   "execution_count": 40,
   "id": "de00559e-b539-4d0e-aa0c-415975b06e7a",
   "metadata": {},
   "outputs": [
    {
     "data": {
      "text/plain": [
       "24"
      ]
     },
     "execution_count": 40,
     "metadata": {},
     "output_type": "execute_result"
    }
   ],
   "source": [
    "factorial(4)"
   ]
  },
  {
   "cell_type": "code",
   "execution_count": null,
   "id": "bed6bb4f-83f9-49bd-b587-f46bc1a47f9c",
   "metadata": {},
   "outputs": [],
   "source": [
    "# A classical problem with recursive functions and how to solve it.\n",
    "\n",
    "# Fibonacci\n",
    "\n",
    "# 0,1, 1, 2, 3, 8, 13, 21\n",
    "\n",
    "#F0 = 0\n",
    "#F1 = 1\n",
    "#Fn = F(n-1)+F(n-2) \n",
    "\n",
    "from functools import lru_cache\n",
    "\n",
    "@lru_cache\n",
    "def fib(n):\n",
    "    if n < 2:\n",
    "        return n\n",
    "    return fib(n-1) + fib(n-2)    "
   ]
  },
  {
   "cell_type": "code",
   "execution_count": 50,
   "id": "dbecd8ae-3305-484b-910b-b35e0e3b7cda",
   "metadata": {},
   "outputs": [
    {
     "ename": "IndentationError",
     "evalue": "unindent does not match any outer indentation level (<string>, line 6)",
     "output_type": "error",
     "traceback": [
      "  \u001b[36mFile \u001b[39m\u001b[32m<string>:6\u001b[39m\n\u001b[31m    \u001b[39m\u001b[31mout = mydicti.get(n)\u001b[39m\n                        ^\n\u001b[31mIndentationError\u001b[39m\u001b[31m:\u001b[39m unindent does not match any outer indentation level\n"
     ]
    }
   ],
   "source": [
    "\n",
    "mydicti = {}\n",
    "\n",
    "# The cache to store results\n",
    "mydicti = {}\n",
    "\n",
    "def fib2(n):\n",
    "    # 1. Check if the result is already in the cache\n",
    "    if n in mydicti:\n",
    "        return mydicti[n]\n",
    "    \n",
    "    # 2. Handle the base cases\n",
    "    if n < 2:\n",
    "        return n\n",
    "    \n",
    "    # 3. If not in cache, compute recursively, then store the result\n",
    "    result = fib2(n - 1) + fib2(n - 2)\n",
    "    mydicti[n] = result\n",
    "    \n",
    "    return result"
   ]
  },
  {
   "cell_type": "code",
   "execution_count": null,
   "id": "d25a5edd-c025-443c-b3b9-f5908b83699b",
   "metadata": {},
   "outputs": [],
   "source": []
  }
 ],
 "metadata": {
  "kernelspec": {
   "display_name": "Python 3 (ipykernel)",
   "language": "python",
   "name": "python3"
  },
  "language_info": {
   "codemirror_mode": {
    "name": "ipython",
    "version": 3
   },
   "file_extension": ".py",
   "mimetype": "text/x-python",
   "name": "python",
   "nbconvert_exporter": "python",
   "pygments_lexer": "ipython3",
   "version": "3.12.3"
  }
 },
 "nbformat": 4,
 "nbformat_minor": 5
}
