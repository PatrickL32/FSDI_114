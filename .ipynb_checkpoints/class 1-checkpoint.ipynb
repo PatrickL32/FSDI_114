{
 "cells": [
  {
   "cell_type": "code",
   "execution_count": 2,
   "id": "3166fdfe-757e-4b09-b48f-84ea38dc635b",
   "metadata": {},
   "outputs": [
    {
     "name": "stdout",
     "output_type": "stream",
     "text": [
      "H\n",
      "e\n",
      "l\n",
      "l\n",
      "o\n",
      " \n",
      "W\n",
      "o\n",
      "r\n",
      "l\n",
      "d\n",
      "!\n"
     ]
    }
   ],
   "source": [
    "for char in \"Hello World!\":\n",
    "    print(char)\n",
    "\n",
    "    #Press shift + enter"
   ]
  },
  {
   "cell_type": "markdown",
   "id": "a9bc90b5-2667-4f78-b320-939ee591ebb2",
   "metadata": {},
   "source": [
    "# problem 1\n",
    "\n",
    "## An Anagram check\n",
    "Given two strings to youe function(anagram_check), check that thee are anagrams of each other and reutrn 'True' if they end 'false' otherwise.\n",
    "\n",
    "### Critieria\n",
    "Two strings are said to be anagrams of each other if all the critieria below are met:\n",
    "1.they must contain the same letters,the same number of times.\n",
    "2.the must conatin the same total number of letters.\n",
    "\n",
    "```\n",
    "Examples:\n",
    "cars and scar\n",
    "stars and rats\n",
    "earth and heart\n",
    "arms and mars\n",
    "et"
   ]
  },
  {
   "cell_type": "code",
   "execution_count": null,
   "id": "631b568d-da1a-4dd4-8e92-20212a4da8b6",
   "metadata": {},
   "outputs": [],
   "source": [
    "# Pseudocode-> Not Real code(intended to help us not get stuck on the programming language syntax)\n",
    "# define new function\"anagram_check\" with parameters: s1 and s2 (of type string):\n",
    "    #s1 = s1 without spaces and in lowercase\n",
    "    #s2 = s2 without spaces and in lowercase\n",
    "# if the length of s1 is not equal to th length of s2:\n",
    "#     return false\n",
    "#   d1 = new dictionary\n",
    "#   d2 = new dictionary\n",
    "#   for each \"number\" in teh range between 0 and the length ot s1:\n",
    "#    if the letter at position\"number in s1 is not in d1:\n",
    "#         create a new entry in d1 for the letter at position \"number\" and set the value to 1\n",
    "#      otherwise\n",
    "#           add 1 to the value associated with  the letter  at postion\"number\" in s2 is not in d2:\n",
    "#     if the letter at position \"number\" in s2 is not in d1:\n",
    "#        create a new entry in d2 for the letter at position \"number\" and set  the value to 1\n",
    "#       otherwise\n",
    "#          add 1  to the value associated with the letter at positon \"number\" and set the value to 1\n",
    "#      if the letter at postion \"number\" in s2 is not in d2:\n",
    "#         create a new entry in d2 for the letter at postion \"number\" and set the value 1\n",
    "#       otherwise\n",
    "#            add 1 to the value associated with the letter at positon \"number\" in s2 to d2\n",
    "#      if d1==d2:\n",
    "#        return True\n",
    "#       otherwise\n",
    "#         return False"
   ]
  },
  {
   "cell_type": "code",
   "execution_count": null,
   "id": "362e59d3-5570-498e-8631-a13be70861d7",
   "metadata": {},
   "outputs": [],
   "source": [
    "def anagram_check(s1, s2):\n",
    "s1 = s1.replace(\" \", \"\"). lower()\n",
    "w \"\"). lower( )\n",
    "s2 = s2. replace(\" \", \"\n",
    "if len(s1) != len(s2):\n",
    "return False\n",
    "d1 = {}\n",
    "d2 = {}\n",
    "for number in range(len(s1)):\n",
    "if s1 [number] not in d1:\n",
    "d1 [s1[number]] = 1\n",
    "else:\n",
    "d1 [s1 [number] ] += 1\n",
    "if s2 [number] not in d2:\n",
    "d2 [s2 [number]] = 1\n",
    "else:\n",
    "d2 [s2[number]] += 1\n",
    "return d1 == d2\n",
    "\n"
   ]
  },
  {
   "cell_type": "code",
   "execution_count": null,
   "id": "2fecdcdf-1933-4f28-ac4e-ce69204dcab6",
   "metadata": {},
   "outputs": [],
   "source": [
    "def anagram_check(peach,cheap)\n",
    "peach = peach.replace(\"peach\",\"cheap\"). lower(p)\n",
    "w \"peach\").lower(e)\n",
    "cheap = cheap.replace(\"c\",\"h\"\n",
    "   if len(peach) != len(cheap)\n",
    "   return False\n",
    "   d1={p,e,a,c,h} \n",
    "   d2= {c,h,e,a,p}\n",
    "   for number in range(len(peach)):\n",
    "   if p[1] not in d1:\n",
    "   d1 [p[1]] = 1 \n",
    "   else:\n",
    "   d1[p[1]]+= 1\n",
    "   if cheap[1,2,3,4] not in d2:\n",
    "   cheap[c[1]] = 1\n",
    "   else:\n",
    "   d2 [c[1]] =1\n",
    "   if cheap[1,2,3,4] not in d2:\n",
    "   d2 [cheap[1]] = 1\n",
    "   else:\n",
    "   d2[h[2]] +=1\n",
    "   return peach==cheap\n",
    "    \n",
    "\n",
    "\n",
    "\n",
    "\n"
   ]
  },
  {
   "cell_type": "code",
   "execution_count": null,
   "id": "80aa5053-8686-40a6-8f47-4bc478aab4aa",
   "metadata": {},
   "outputs": [],
   "source": []
  }
 ],
 "metadata": {
  "kernelspec": {
   "display_name": "Python 3 (ipykernel)",
   "language": "python",
   "name": "python3"
  },
  "language_info": {
   "codemirror_mode": {
    "name": "ipython",
    "version": 3
   },
   "file_extension": ".py",
   "mimetype": "text/x-python",
   "name": "python",
   "nbconvert_exporter": "python",
   "pygments_lexer": "ipython3",
   "version": "3.12.3"
  }
 },
 "nbformat": 4,
 "nbformat_minor": 5
}
