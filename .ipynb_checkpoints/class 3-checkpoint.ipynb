{
 "cells": [
  {
   "cell_type": "markdown",
   "id": "6b17ff38-4ebd-4fa8-96db-f9e87f6c1fb6",
   "metadata": {},
   "source": [
    "#Linked Lists\n",
    "\n",
    "In general, there two varieties of of **linked lists**:\n",
    "\n",
    "1. Singly-linked lists or uni-directional lists.\n",
    "2. Doubly-links, or bi-directional lists.   \n"
   ]
  },
  {
   "cell_type": "code",
   "execution_count": null,
   "id": "fa0032a1-092f-421f-8f46-249499f54947",
   "metadata": {},
   "outputs": [],
   "source": [
    "mylist=[]\n",
    "help(mylist)"
   ]
  },
  {
   "cell_type": "code",
   "execution_count": 5,
   "id": "9761f86a-0b32-4601-a874-5e2220e4d7a0",
   "metadata": {},
   "outputs": [
    {
     "name": "stdout",
     "output_type": "stream",
     "text": [
      "135709539690368\n",
      "135709539690368\n"
     ]
    }
   ],
   "source": [
    "# pass by value vs pass by reference\n",
    "\n",
    "#In python3 data type that pass by value: int ,bool,float\n",
    "\n",
    "# x=5\n",
    "# y=x\n",
    "# x+= 1\n",
    "# print(id(x))\n",
    "# print(id(y))\n",
    "\n",
    " # other data types pass by reference\n",
    "\n",
    "# x =[1, 2, 3,]\n",
    "# y=x\n",
    "# x.append(4)\n",
    "# print(id(x))\n",
    "# print(id(y))"
   ]
  },
  {
   "cell_type": "code",
   "execution_count": null,
   "id": "c8cca068-9421-4489-85ae-0bee2ec12d0e",
   "metadata": {},
   "outputs": [],
   "source": [
    "class SinglyLinkedList:\n",
    "  class _Node:\n",
    "  def _init_(self, datum):\n",
    "      self.data = datum\n",
    "      self.next = None\n",
    "\n",
    "   def _init_(self):\n",
    "       self.head= None\n",
    "       self.tail = None\n",
    "\n",
    "   def append(self, value):\n",
    "       new_node = sef._Node(value)\n",
    "       if not self.head:\n",
    "           self.head = new_node\n",
    "           self.tail = new_node\n",
    "       else:\n",
    "           self.tail.next = new_node\n",
    "           self.tail = new_node\n",
    "     \n",
    "    def pop(self):\n",
    "        if self.tail:\n",
    "            backup = self.tail.data\n",
    "            current = self.head\n",
    "            prev = None\n",
    "            if self.tail = None\n",
    "               self.tail = None\n",
    "               self.head = None\n",
    "                return backup\n",
    "             while current ! = self.tail:\n",
    "                prev = current\n",
    "                current = current.next\n",
    "        self.tail = prev\n",
    "        prev.next = None\n",
    "        return backup\n",
    "\n",
    "        raise IndexError(\"list is empty\")\n",
    "       \n",
    "\n",
    "    def  remove(self,value):\n",
    "        if self.head:\n",
    "            current= self.head\n",
    "            prev = None\n",
    "            found = False\n",
    "           while current.next and not found:\n",
    "               if current.data == value:\n",
    "                   found = True\n",
    "               else:\n",
    "                   prev = current\n",
    "                   if current == self.tail:\n",
    "                       self.tail = perv\n",
    "                       \n",
    "    def insert(self,index,value) :\n",
    "    # The insert method allows the caller to insert a new Node the \"value\"(the param to this method) Before the target index.\n",
    "    # If the index is 0, the new node replaces the head.\n",
    "    # If the index exceeds the length of the list, the operation requested is equivalent to an \"append\".\n",
    "    # Otherwise , insert the new node before the target index. \n",
    "         pass\n",
    "\n",
    "    def _str_(self):\n",
    "        out = \"[\"\n",
    "        current = self.head\n",
    "        if current:\n",
    "            out +=\"%s\" % current. data\n",
    "            current = current.next\n",
    "            while current:\n",
    "                out += \",%s\" % current.data\n",
    "                current = current.next\n",
    "             out += \"]\"\n",
    "              return out\n",
    "\n",
    "    def _len_(self):\n",
    "        count = 0\n",
    "        current = self.head\n",
    "        while current:\n",
    "             count +=1\n",
    "             current = current.next\n",
    "            return count    \n",
    "            \n",
    "             \n",
    "         return 0\n",
    "\n",
    "            "
   ]
  }
 ],
 "metadata": {
  "kernelspec": {
   "display_name": "Python 3 (ipykernel)",
   "language": "python",
   "name": "python3"
  },
  "language_info": {
   "codemirror_mode": {
    "name": "ipython",
    "version": 3
   },
   "file_extension": ".py",
   "mimetype": "text/x-python",
   "name": "python",
   "nbconvert_exporter": "python",
   "pygments_lexer": "ipython3",
   "version": "3.12.3"
  }
 },
 "nbformat": 4,
 "nbformat_minor": 5
}
