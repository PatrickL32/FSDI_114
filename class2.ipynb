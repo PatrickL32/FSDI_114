{
 "cells": [
  {
   "cell_type": "markdown",
   "id": "a22550df-af73-4750-bfb9-2d3b85193c79",
   "metadata": {},
   "source": [
    "#Stacks and Queues\n",
    "\n",
    "##Stack\n",
    "\n",
    "A stack is an ordered collection of elements where items are added and removed from one end,commonly referred to as the\"top\".The\n",
    "ordering principle is referred to as LIFO(last in, first out).\n",
    "\n",
    "##Queue\n",
    "\n",
    "A queue is an ordered collection of elements where items are added and removed from ++opposite++ ends, commonly referred to as the \"front\"\n",
    "and \"back\" or \"rear\" of the queue. The ordering principle is referred to as FIFO(first in , first out) or \"first come first served\". \n",
    "    "
   ]
  },
  {
   "cell_type": "markdown",
   "id": "f5219bc1-cbdb-405f-a35c-fafb14a5a73f",
   "metadata": {},
   "source": [
    " class Stack:\n",
    "def _init_(self):\n",
    "self.items = []\n",
    "\n",
    "def push(self, element):\n",
    "self.items. append(element)\n",
    "\n",
    "def pop(self):\n",
    "return self.items.pop()\n",
    "\n",
    "# Nice to have methods\n",
    "def peek(self):\n",
    "return self.items[len(self.items)-1]\n",
    "\n",
    "def size(self):\n",
    "return len(self.items)\n",
    "\n",
    "def is_empty(self):\n",
    "return self.items == []\n",
    "\n",
    "1 # Simplified Queue (relying on built-ins)\n",
    "\n",
    "class Queue:\n",
    "def _init_(self):\n",
    "self.items = []\n",
    "\n",
    "def enqueue(self, element):\n",
    "self.items. insert(0, element)\n",
    "\n",
    "def dequeue(self):\n",
    "return self.items.pop()\n",
    "\n",
    "# Nice to have methods\n",
    "def peek(self):\n",
    "return self.items[len(self.items)-1]\n",
    "\n"
   ]
  },
  {
   "cell_type": "code",
   "execution_count": null,
   "id": "d469edaf-f8d2-4b13-8c9a-9a83a3ea11d7",
   "metadata": {},
   "outputs": [],
   "source": []
  }
 ],
 "metadata": {
  "kernelspec": {
   "display_name": "Python 3 (ipykernel)",
   "language": "python",
   "name": "python3"
  },
  "language_info": {
   "codemirror_mode": {
    "name": "ipython",
    "version": 3
   },
   "file_extension": ".py",
   "mimetype": "text/x-python",
   "name": "python",
   "nbconvert_exporter": "python",
   "pygments_lexer": "ipython3",
   "version": "3.12.3"
  }
 },
 "nbformat": 4,
 "nbformat_minor": 5
}
